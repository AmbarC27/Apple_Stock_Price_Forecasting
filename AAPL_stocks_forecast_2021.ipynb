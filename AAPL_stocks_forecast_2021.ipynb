{
 "cells": [
  {
   "cell_type": "markdown",
   "id": "95269672",
   "metadata": {},
   "source": [
    "# AAPL price forecasting"
   ]
  },
  {
   "cell_type": "markdown",
   "id": "82db76ad",
   "metadata": {},
   "source": [
    "## Importing and setting up data to be used in the model"
   ]
  },
  {
   "cell_type": "code",
   "execution_count": 1,
   "id": "d16d57a0",
   "metadata": {},
   "outputs": [
    {
     "name": "stderr",
     "output_type": "stream",
     "text": [
      "Warning message:\n",
      "\"package 'quantmod' was built under R version 4.1.3\"\n",
      "Loading required package: xts\n",
      "\n",
      "Warning message:\n",
      "\"package 'xts' was built under R version 4.1.3\"\n",
      "Loading required package: zoo\n",
      "\n",
      "Warning message:\n",
      "\"package 'zoo' was built under R version 4.1.3\"\n",
      "\n",
      "Attaching package: 'zoo'\n",
      "\n",
      "\n",
      "The following objects are masked from 'package:base':\n",
      "\n",
      "    as.Date, as.Date.numeric\n",
      "\n",
      "\n",
      "Loading required package: TTR\n",
      "\n",
      "Warning message:\n",
      "\"package 'TTR' was built under R version 4.1.3\"\n",
      "Registered S3 method overwritten by 'quantmod':\n",
      "  method            from\n",
      "  as.zoo.data.frame zoo \n",
      "\n",
      "Warning message:\n",
      "\"package 'prophet' was built under R version 4.1.3\"\n",
      "Loading required package: Rcpp\n",
      "\n",
      "Warning message:\n",
      "\"package 'Rcpp' was built under R version 4.1.3\"\n",
      "Loading required package: rlang\n",
      "\n",
      "Warning message:\n",
      "\"package 'rlang' was built under R version 4.1.3\"\n",
      "Warning message:\n",
      "\"package 'tidyverse' was built under R version 4.1.3\"\n",
      "-- \u001b[1mAttaching packages\u001b[22m ------------------------------------------------------------------------------- tidyverse 1.3.1 --\n",
      "\n",
      "\u001b[32mv\u001b[39m \u001b[34mggplot2\u001b[39m 3.3.5     \u001b[32mv\u001b[39m \u001b[34mpurrr  \u001b[39m 0.3.4\n",
      "\u001b[32mv\u001b[39m \u001b[34mtibble \u001b[39m 3.1.6     \u001b[32mv\u001b[39m \u001b[34mdplyr  \u001b[39m 1.0.8\n",
      "\u001b[32mv\u001b[39m \u001b[34mtidyr  \u001b[39m 1.2.0     \u001b[32mv\u001b[39m \u001b[34mstringr\u001b[39m 1.4.0\n",
      "\u001b[32mv\u001b[39m \u001b[34mreadr  \u001b[39m 2.1.2     \u001b[32mv\u001b[39m \u001b[34mforcats\u001b[39m 0.5.1\n",
      "\n",
      "Warning message:\n",
      "\"package 'ggplot2' was built under R version 4.1.3\"\n",
      "Warning message:\n",
      "\"package 'tidyr' was built under R version 4.1.3\"\n",
      "Warning message:\n",
      "\"package 'readr' was built under R version 4.1.3\"\n",
      "Warning message:\n",
      "\"package 'dplyr' was built under R version 4.1.3\"\n",
      "Warning message:\n",
      "\"package 'stringr' was built under R version 4.1.3\"\n",
      "Warning message:\n",
      "\"package 'forcats' was built under R version 4.1.3\"\n",
      "-- \u001b[1mConflicts\u001b[22m ---------------------------------------------------------------------------------- tidyverse_conflicts() --\n",
      "\u001b[31mx\u001b[39m \u001b[34mpurrr\u001b[39m::\u001b[32m%@%()\u001b[39m         masks \u001b[34mrlang\u001b[39m::%@%()\n",
      "\u001b[31mx\u001b[39m \u001b[34mpurrr\u001b[39m::\u001b[32mas_function()\u001b[39m masks \u001b[34mrlang\u001b[39m::as_function()\n",
      "\u001b[31mx\u001b[39m \u001b[34mdplyr\u001b[39m::\u001b[32mfilter()\u001b[39m      masks \u001b[34mstats\u001b[39m::filter()\n",
      "\u001b[31mx\u001b[39m \u001b[34mdplyr\u001b[39m::\u001b[32mfirst()\u001b[39m       masks \u001b[34mxts\u001b[39m::first()\n",
      "\u001b[31mx\u001b[39m \u001b[34mpurrr\u001b[39m::\u001b[32mflatten()\u001b[39m     masks \u001b[34mrlang\u001b[39m::flatten()\n",
      "\u001b[31mx\u001b[39m \u001b[34mpurrr\u001b[39m::\u001b[32mflatten_chr()\u001b[39m masks \u001b[34mrlang\u001b[39m::flatten_chr()\n",
      "\u001b[31mx\u001b[39m \u001b[34mpurrr\u001b[39m::\u001b[32mflatten_dbl()\u001b[39m masks \u001b[34mrlang\u001b[39m::flatten_dbl()\n",
      "\u001b[31mx\u001b[39m \u001b[34mpurrr\u001b[39m::\u001b[32mflatten_int()\u001b[39m masks \u001b[34mrlang\u001b[39m::flatten_int()\n",
      "\u001b[31mx\u001b[39m \u001b[34mpurrr\u001b[39m::\u001b[32mflatten_lgl()\u001b[39m masks \u001b[34mrlang\u001b[39m::flatten_lgl()\n",
      "\u001b[31mx\u001b[39m \u001b[34mpurrr\u001b[39m::\u001b[32mflatten_raw()\u001b[39m masks \u001b[34mrlang\u001b[39m::flatten_raw()\n",
      "\u001b[31mx\u001b[39m \u001b[34mpurrr\u001b[39m::\u001b[32minvoke()\u001b[39m      masks \u001b[34mrlang\u001b[39m::invoke()\n",
      "\u001b[31mx\u001b[39m \u001b[34mdplyr\u001b[39m::\u001b[32mlag()\u001b[39m         masks \u001b[34mstats\u001b[39m::lag()\n",
      "\u001b[31mx\u001b[39m \u001b[34mdplyr\u001b[39m::\u001b[32mlast()\u001b[39m        masks \u001b[34mxts\u001b[39m::last()\n",
      "\u001b[31mx\u001b[39m \u001b[34mpurrr\u001b[39m::\u001b[32msplice()\u001b[39m      masks \u001b[34mrlang\u001b[39m::splice()\n",
      "\n"
     ]
    }
   ],
   "source": [
    "## Importing the required libraries: quantmod, tidyverse and prophet\n",
    "library(quantmod)\n",
    "library(prophet)\n",
    "library(tidyverse)"
   ]
  },
  {
   "cell_type": "code",
   "execution_count": 2,
   "id": "e81dc61f",
   "metadata": {},
   "outputs": [
    {
     "name": "stderr",
     "output_type": "stream",
     "text": [
      "'getSymbols' currently uses auto.assign=TRUE by default, but will\n",
      "use auto.assign=FALSE in 0.5-0. You will still be able to use\n",
      "'loadSymbols' to automatically load data. getOption(\"getSymbols.env\")\n",
      "and getOption(\"getSymbols.auto.assign\") will still be checked for\n",
      "alternate defaults.\n",
      "\n",
      "This message is shown once per session and may be disabled by setting \n",
      "options(\"getSymbols.warning4.0\"=FALSE). See ?getSymbols for details.\n",
      "\n",
      "\n"
     ]
    },
    {
     "data": {
      "text/html": [
       "'AAPL'"
      ],
      "text/latex": [
       "'AAPL'"
      ],
      "text/markdown": [
       "'AAPL'"
      ],
      "text/plain": [
       "[1] \"AAPL\""
      ]
     },
     "metadata": {},
     "output_type": "display_data"
    }
   ],
   "source": [
    "## Importing AAPL historical data into R\n",
    "getSymbols(\"AAPL\")"
   ]
  },
  {
   "cell_type": "code",
   "execution_count": 3,
   "id": "f8fef2db",
   "metadata": {},
   "outputs": [
    {
     "data": {
      "text/plain": [
       "           AAPL.Open AAPL.High AAPL.Low AAPL.Close AAPL.Volume AAPL.Adjusted\n",
       "2007-01-03  3.081786  3.092143 2.925000   2.992857  1238319600      2.562706\n",
       "2007-01-04  3.001786  3.069643 2.993571   3.059286   847260400      2.619588\n",
       "2007-01-05  3.063214  3.078571 3.014286   3.037500   834741600      2.600933\n",
       "2007-01-08  3.070000  3.090357 3.045714   3.052500   797106800      2.613777\n",
       "2007-01-09  3.087500  3.320714 3.041071   3.306071  3349298400      2.830904\n",
       "2007-01-10  3.383929  3.492857 3.337500   3.464286  2952880000      2.966379"
      ]
     },
     "metadata": {},
     "output_type": "display_data"
    }
   ],
   "source": [
    "head(AAPL)"
   ]
  },
  {
   "cell_type": "code",
   "execution_count": 4,
   "id": "84e7c254",
   "metadata": {},
   "outputs": [
    {
     "name": "stderr",
     "output_type": "stream",
     "text": [
      "\u001b[1mRows: \u001b[22m\u001b[34m3854\u001b[39m \u001b[1mColumns: \u001b[22m\u001b[34m7\u001b[39m\n",
      "\u001b[36m--\u001b[39m \u001b[1mColumn specification\u001b[22m \u001b[36m------------------------------------------------------------------------------------------------\u001b[39m\n",
      "\u001b[1mDelimiter:\u001b[22m \",\"\n",
      "\u001b[32mdbl\u001b[39m  (6): AAPL.Open, AAPL.High, AAPL.Low, AAPL.Close, AAPL.Volume, AAPL.Adju...\n",
      "\u001b[34mdate\u001b[39m (1): Index\n",
      "\n",
      "\u001b[36mi\u001b[39m Use `spec()` to retrieve the full column specification for this data.\n",
      "\u001b[36mi\u001b[39m Specify the column types or set `show_col_types = FALSE` to quiet this message.\n"
     ]
    }
   ],
   "source": [
    "## Converting the xts file into csv for easier manipulation\n",
    "write.zoo(AAPL,file=\"AAPL.price.csv\",sep=\",\")\n",
    "AAPL_price <- read_csv(\"AAPL.price.csv\")"
   ]
  },
  {
   "cell_type": "code",
   "execution_count": 5,
   "id": "abd9c04a",
   "metadata": {},
   "outputs": [
    {
     "data": {
      "text/html": [
       "<table class=\"dataframe\">\n",
       "<caption>A tibble: 6 × 7</caption>\n",
       "<thead>\n",
       "\t<tr><th scope=col>Index</th><th scope=col>AAPL.Open</th><th scope=col>AAPL.High</th><th scope=col>AAPL.Low</th><th scope=col>AAPL.Close</th><th scope=col>AAPL.Volume</th><th scope=col>AAPL.Adjusted</th></tr>\n",
       "\t<tr><th scope=col>&lt;date&gt;</th><th scope=col>&lt;dbl&gt;</th><th scope=col>&lt;dbl&gt;</th><th scope=col>&lt;dbl&gt;</th><th scope=col>&lt;dbl&gt;</th><th scope=col>&lt;dbl&gt;</th><th scope=col>&lt;dbl&gt;</th></tr>\n",
       "</thead>\n",
       "<tbody>\n",
       "\t<tr><td>2007-01-03</td><td>3.081786</td><td>3.092143</td><td>2.925000</td><td>2.992857</td><td>1238319600</td><td>2.562706</td></tr>\n",
       "\t<tr><td>2007-01-04</td><td>3.001786</td><td>3.069643</td><td>2.993571</td><td>3.059286</td><td> 847260400</td><td>2.619588</td></tr>\n",
       "\t<tr><td>2007-01-05</td><td>3.063214</td><td>3.078571</td><td>3.014286</td><td>3.037500</td><td> 834741600</td><td>2.600933</td></tr>\n",
       "\t<tr><td>2007-01-08</td><td>3.070000</td><td>3.090357</td><td>3.045714</td><td>3.052500</td><td> 797106800</td><td>2.613777</td></tr>\n",
       "\t<tr><td>2007-01-09</td><td>3.087500</td><td>3.320714</td><td>3.041071</td><td>3.306071</td><td>3349298400</td><td>2.830904</td></tr>\n",
       "\t<tr><td>2007-01-10</td><td>3.383929</td><td>3.492857</td><td>3.337500</td><td>3.464286</td><td>2952880000</td><td>2.966379</td></tr>\n",
       "</tbody>\n",
       "</table>\n"
      ],
      "text/latex": [
       "A tibble: 6 × 7\n",
       "\\begin{tabular}{lllllll}\n",
       " Index & AAPL.Open & AAPL.High & AAPL.Low & AAPL.Close & AAPL.Volume & AAPL.Adjusted\\\\\n",
       " <date> & <dbl> & <dbl> & <dbl> & <dbl> & <dbl> & <dbl>\\\\\n",
       "\\hline\n",
       "\t 2007-01-03 & 3.081786 & 3.092143 & 2.925000 & 2.992857 & 1238319600 & 2.562706\\\\\n",
       "\t 2007-01-04 & 3.001786 & 3.069643 & 2.993571 & 3.059286 &  847260400 & 2.619588\\\\\n",
       "\t 2007-01-05 & 3.063214 & 3.078571 & 3.014286 & 3.037500 &  834741600 & 2.600933\\\\\n",
       "\t 2007-01-08 & 3.070000 & 3.090357 & 3.045714 & 3.052500 &  797106800 & 2.613777\\\\\n",
       "\t 2007-01-09 & 3.087500 & 3.320714 & 3.041071 & 3.306071 & 3349298400 & 2.830904\\\\\n",
       "\t 2007-01-10 & 3.383929 & 3.492857 & 3.337500 & 3.464286 & 2952880000 & 2.966379\\\\\n",
       "\\end{tabular}\n"
      ],
      "text/markdown": [
       "\n",
       "A tibble: 6 × 7\n",
       "\n",
       "| Index &lt;date&gt; | AAPL.Open &lt;dbl&gt; | AAPL.High &lt;dbl&gt; | AAPL.Low &lt;dbl&gt; | AAPL.Close &lt;dbl&gt; | AAPL.Volume &lt;dbl&gt; | AAPL.Adjusted &lt;dbl&gt; |\n",
       "|---|---|---|---|---|---|---|\n",
       "| 2007-01-03 | 3.081786 | 3.092143 | 2.925000 | 2.992857 | 1238319600 | 2.562706 |\n",
       "| 2007-01-04 | 3.001786 | 3.069643 | 2.993571 | 3.059286 |  847260400 | 2.619588 |\n",
       "| 2007-01-05 | 3.063214 | 3.078571 | 3.014286 | 3.037500 |  834741600 | 2.600933 |\n",
       "| 2007-01-08 | 3.070000 | 3.090357 | 3.045714 | 3.052500 |  797106800 | 2.613777 |\n",
       "| 2007-01-09 | 3.087500 | 3.320714 | 3.041071 | 3.306071 | 3349298400 | 2.830904 |\n",
       "| 2007-01-10 | 3.383929 | 3.492857 | 3.337500 | 3.464286 | 2952880000 | 2.966379 |\n",
       "\n"
      ],
      "text/plain": [
       "  Index      AAPL.Open AAPL.High AAPL.Low AAPL.Close AAPL.Volume AAPL.Adjusted\n",
       "1 2007-01-03 3.081786  3.092143  2.925000 2.992857   1238319600  2.562706     \n",
       "2 2007-01-04 3.001786  3.069643  2.993571 3.059286    847260400  2.619588     \n",
       "3 2007-01-05 3.063214  3.078571  3.014286 3.037500    834741600  2.600933     \n",
       "4 2007-01-08 3.070000  3.090357  3.045714 3.052500    797106800  2.613777     \n",
       "5 2007-01-09 3.087500  3.320714  3.041071 3.306071   3349298400  2.830904     \n",
       "6 2007-01-10 3.383929  3.492857  3.337500 3.464286   2952880000  2.966379     "
      ]
     },
     "metadata": {},
     "output_type": "display_data"
    }
   ],
   "source": [
    "head(AAPL_price)"
   ]
  },
  {
   "cell_type": "code",
   "execution_count": 6,
   "id": "a014b1a1",
   "metadata": {},
   "outputs": [],
   "source": [
    "## Only the date and closing price is required for analysis\n",
    "AAPL_price <- cbind(AAPL_price[1],AAPL_price[5])"
   ]
  },
  {
   "cell_type": "code",
   "execution_count": 7,
   "id": "1387e9b2",
   "metadata": {},
   "outputs": [
    {
     "data": {
      "text/html": [
       "<table class=\"dataframe\">\n",
       "<caption>A data.frame: 6 × 2</caption>\n",
       "<thead>\n",
       "\t<tr><th></th><th scope=col>Index</th><th scope=col>AAPL.Close</th></tr>\n",
       "\t<tr><th></th><th scope=col>&lt;date&gt;</th><th scope=col>&lt;dbl&gt;</th></tr>\n",
       "</thead>\n",
       "<tbody>\n",
       "\t<tr><th scope=row>1</th><td>2007-01-03</td><td>2.992857</td></tr>\n",
       "\t<tr><th scope=row>2</th><td>2007-01-04</td><td>3.059286</td></tr>\n",
       "\t<tr><th scope=row>3</th><td>2007-01-05</td><td>3.037500</td></tr>\n",
       "\t<tr><th scope=row>4</th><td>2007-01-08</td><td>3.052500</td></tr>\n",
       "\t<tr><th scope=row>5</th><td>2007-01-09</td><td>3.306071</td></tr>\n",
       "\t<tr><th scope=row>6</th><td>2007-01-10</td><td>3.464286</td></tr>\n",
       "</tbody>\n",
       "</table>\n"
      ],
      "text/latex": [
       "A data.frame: 6 × 2\n",
       "\\begin{tabular}{r|ll}\n",
       "  & Index & AAPL.Close\\\\\n",
       "  & <date> & <dbl>\\\\\n",
       "\\hline\n",
       "\t1 & 2007-01-03 & 2.992857\\\\\n",
       "\t2 & 2007-01-04 & 3.059286\\\\\n",
       "\t3 & 2007-01-05 & 3.037500\\\\\n",
       "\t4 & 2007-01-08 & 3.052500\\\\\n",
       "\t5 & 2007-01-09 & 3.306071\\\\\n",
       "\t6 & 2007-01-10 & 3.464286\\\\\n",
       "\\end{tabular}\n"
      ],
      "text/markdown": [
       "\n",
       "A data.frame: 6 × 2\n",
       "\n",
       "| <!--/--> | Index &lt;date&gt; | AAPL.Close &lt;dbl&gt; |\n",
       "|---|---|---|\n",
       "| 1 | 2007-01-03 | 2.992857 |\n",
       "| 2 | 2007-01-04 | 3.059286 |\n",
       "| 3 | 2007-01-05 | 3.037500 |\n",
       "| 4 | 2007-01-08 | 3.052500 |\n",
       "| 5 | 2007-01-09 | 3.306071 |\n",
       "| 6 | 2007-01-10 | 3.464286 |\n",
       "\n"
      ],
      "text/plain": [
       "  Index      AAPL.Close\n",
       "1 2007-01-03 2.992857  \n",
       "2 2007-01-04 3.059286  \n",
       "3 2007-01-05 3.037500  \n",
       "4 2007-01-08 3.052500  \n",
       "5 2007-01-09 3.306071  \n",
       "6 2007-01-10 3.464286  "
      ]
     },
     "metadata": {},
     "output_type": "display_data"
    }
   ],
   "source": [
    "head(AAPL_price)"
   ]
  },
  {
   "cell_type": "code",
   "execution_count": 8,
   "id": "c8dcc838",
   "metadata": {},
   "outputs": [],
   "source": [
    "## Changing column names to make it compatible to be used with the prophet library\n",
    "colnames(AAPL_price) <- c(\"ds\",\"y\")"
   ]
  },
  {
   "cell_type": "code",
   "execution_count": 9,
   "id": "ffb76d18",
   "metadata": {},
   "outputs": [
    {
     "data": {
      "text/html": [
       "<table class=\"dataframe\">\n",
       "<caption>A data.frame: 6 × 2</caption>\n",
       "<thead>\n",
       "\t<tr><th></th><th scope=col>ds</th><th scope=col>y</th></tr>\n",
       "\t<tr><th></th><th scope=col>&lt;date&gt;</th><th scope=col>&lt;dbl&gt;</th></tr>\n",
       "</thead>\n",
       "<tbody>\n",
       "\t<tr><th scope=row>1</th><td>2007-01-03</td><td>2.992857</td></tr>\n",
       "\t<tr><th scope=row>2</th><td>2007-01-04</td><td>3.059286</td></tr>\n",
       "\t<tr><th scope=row>3</th><td>2007-01-05</td><td>3.037500</td></tr>\n",
       "\t<tr><th scope=row>4</th><td>2007-01-08</td><td>3.052500</td></tr>\n",
       "\t<tr><th scope=row>5</th><td>2007-01-09</td><td>3.306071</td></tr>\n",
       "\t<tr><th scope=row>6</th><td>2007-01-10</td><td>3.464286</td></tr>\n",
       "</tbody>\n",
       "</table>\n"
      ],
      "text/latex": [
       "A data.frame: 6 × 2\n",
       "\\begin{tabular}{r|ll}\n",
       "  & ds & y\\\\\n",
       "  & <date> & <dbl>\\\\\n",
       "\\hline\n",
       "\t1 & 2007-01-03 & 2.992857\\\\\n",
       "\t2 & 2007-01-04 & 3.059286\\\\\n",
       "\t3 & 2007-01-05 & 3.037500\\\\\n",
       "\t4 & 2007-01-08 & 3.052500\\\\\n",
       "\t5 & 2007-01-09 & 3.306071\\\\\n",
       "\t6 & 2007-01-10 & 3.464286\\\\\n",
       "\\end{tabular}\n"
      ],
      "text/markdown": [
       "\n",
       "A data.frame: 6 × 2\n",
       "\n",
       "| <!--/--> | ds &lt;date&gt; | y &lt;dbl&gt; |\n",
       "|---|---|---|\n",
       "| 1 | 2007-01-03 | 2.992857 |\n",
       "| 2 | 2007-01-04 | 3.059286 |\n",
       "| 3 | 2007-01-05 | 3.037500 |\n",
       "| 4 | 2007-01-08 | 3.052500 |\n",
       "| 5 | 2007-01-09 | 3.306071 |\n",
       "| 6 | 2007-01-10 | 3.464286 |\n",
       "\n"
      ],
      "text/plain": [
       "  ds         y       \n",
       "1 2007-01-03 2.992857\n",
       "2 2007-01-04 3.059286\n",
       "3 2007-01-05 3.037500\n",
       "4 2007-01-08 3.052500\n",
       "5 2007-01-09 3.306071\n",
       "6 2007-01-10 3.464286"
      ]
     },
     "metadata": {},
     "output_type": "display_data"
    }
   ],
   "source": [
    "head(AAPL_price)"
   ]
  },
  {
   "cell_type": "markdown",
   "id": "e569828f",
   "metadata": {},
   "source": [
    "# Creating the model"
   ]
  },
  {
   "cell_type": "code",
   "execution_count": 10,
   "id": "dba63120",
   "metadata": {},
   "outputs": [],
   "source": [
    "## We will AAPL price from 2008 to 2020 for our model\n",
    "AAPL_2008_to_2020 <- subset(AAPL_price, ds > '2008-01-01' & ds < '2020-12-31')"
   ]
  },
  {
   "cell_type": "code",
   "execution_count": 11,
   "id": "1e061498",
   "metadata": {},
   "outputs": [],
   "source": [
    "model <- prophet(AAPL_2008_to_2020,daily.seasonality = TRUE)"
   ]
  },
  {
   "cell_type": "code",
   "execution_count": 12,
   "id": "eee5437c",
   "metadata": {},
   "outputs": [],
   "source": [
    "future <- make_future_dataframe(model,periods=365)"
   ]
  },
  {
   "cell_type": "code",
   "execution_count": 13,
   "id": "dddc3d40",
   "metadata": {},
   "outputs": [],
   "source": [
    "forecast <- predict(model,future)"
   ]
  },
  {
   "cell_type": "code",
   "execution_count": 14,
   "id": "3dc9dbde",
   "metadata": {},
   "outputs": [
    {
     "data": {
      "image/png": "[encoded data removed]",
      "text/plain": [
       "plot without title"
      ]
     },
     "metadata": {
      "image/png": {
       "height": 420,
       "width": 420
      }
     },
     "output_type": "display_data"
    }
   ],
   "source": [
    "plot(model,forecast,ylab=\"AAPL price\",xlab=\"Year\")\n",
    "## Black dots represent actual price\n",
    "## Dark blue line represents the model price\n",
    "## Light blue shaded area represents the upper and lower error bounds for the model"
   ]
  },
  {
   "cell_type": "markdown",
   "id": "2e65515d",
   "metadata": {},
   "source": [
    "## Checking the accuracy of our model"
   ]
  },
  {
   "cell_type": "code",
   "execution_count": 15,
   "id": "bee2e859",
   "metadata": {},
   "outputs": [],
   "source": [
    "## Obtaining the 2021 AAPL prices\n",
    "AAPL_2021 <- subset(AAPL_price,ds > '2021-01-01' & ds < '2021-12-31')"
   ]
  },
  {
   "cell_type": "code",
   "execution_count": 16,
   "id": "ac2871d6",
   "metadata": {},
   "outputs": [],
   "source": [
    "## Obtaining the 2021 AAPL prices according to our model\n",
    "forecast_2021 <- subset(forecast,forecast[1] > '2020-12-31')"
   ]
  },
  {
   "cell_type": "code",
   "execution_count": 17,
   "id": "805d6ac7",
   "metadata": {},
   "outputs": [],
   "source": [
    "## Our model creates AAPL price for 365 days, while the AAPL data for 2021 only has 251 observations corresponding to the days\n",
    "##    when NASDAQ was operating, thus to check for accuracy we can't implement a one-to-one value comparison. Instead, we will\n",
    "##    obtain the mean of the actual and forecasted price and compare them"
   ]
  },
  {
   "cell_type": "code",
   "execution_count": 18,
   "id": "0d617352",
   "metadata": {},
   "outputs": [],
   "source": [
    "actual_price_mean <- colMeans(AAPL_2021[2])\n",
    "forecast_price_mean <- colMeans(forecast_2021[\"yhat\"])"
   ]
  },
  {
   "cell_type": "code",
   "execution_count": 19,
   "id": "b9b33218",
   "metadata": {},
   "outputs": [],
   "source": [
    "percentage_error <- (abs(actual_price_mean - forecast_price_mean)/actual_price_mean)*100"
   ]
  },
  {
   "cell_type": "code",
   "execution_count": 20,
   "id": "9540caae",
   "metadata": {},
   "outputs": [],
   "source": [
    "accuracy <- 100 - percentage_error"
   ]
  },
  {
   "cell_type": "code",
   "execution_count": 21,
   "id": "727a957f",
   "metadata": {},
   "outputs": [
    {
     "data": {
      "text/html": [
       "<strong>y:</strong> 82.7147155797162"
      ],
      "text/latex": [
       "\\textbf{y:} 82.7147155797162"
      ],
      "text/markdown": [
       "**y:** 82.7147155797162"
      ],
      "text/plain": [
       "       y \n",
       "82.71472 "
      ]
     },
     "metadata": {},
     "output_type": "display_data"
    }
   ],
   "source": [
    "accuracy"
   ]
  },
  {
   "cell_type": "code",
   "execution_count": 22,
   "id": "96bb65b6",
   "metadata": {},
   "outputs": [],
   "source": [
    "## Our model has an 82.7 percent accuracy"
   ]
  }
 ],
 "metadata": {
  "kernelspec": {
   "display_name": "R",
   "language": "R",
   "name": "ir"
  },
  "language_info": {
   "codemirror_mode": "r",
   "file_extension": ".r",
   "mimetype": "text/x-r-source",
   "name": "R",
   "pygments_lexer": "r",
   "version": "4.1.2"
  }
 },
 "nbformat": 4,
 "nbformat_minor": 5
}
